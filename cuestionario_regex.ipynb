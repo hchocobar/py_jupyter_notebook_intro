{
 "cells": [
  {
   "cell_type": "markdown",
   "source": [],
   "metadata": {
    "collapsed": false
   }
  },
  {
   "cell_type": "markdown",
   "source": [
    "# RegEx in Python\n",
    "\n",
    "## re.findall()\n",
    "\n",
    "Ejemplos de preguntas del tipo:\n",
    "\n",
    "***¿Cuál es la salida del siguiente código?***\n"
   ],
   "metadata": {
    "collapsed": false
   }
  },
  {
   "cell_type": "code",
   "execution_count": 1,
   "outputs": [],
   "source": [
    "import re"
   ],
   "metadata": {
    "collapsed": false,
    "ExecuteTime": {
     "end_time": "2023-05-04T19:30:52.749210784Z",
     "start_time": "2023-05-04T19:30:52.568211629Z"
    }
   }
  },
  {
   "cell_type": "markdown",
   "source": [
    "Question 1"
   ],
   "metadata": {
    "collapsed": false
   }
  },
  {
   "cell_type": "code",
   "execution_count": 2,
   "outputs": [
    {
     "name": "stdout",
     "output_type": "stream",
     "text": [
      "['a', 'a', 'a', 'a', 'a', 'a']\n"
     ]
    }
   ],
   "source": [
    "texto = \"La vida es como una caja de chocolates\"\n",
    "patron = \"a\"\n",
    "resultado = re.findall(patron, texto)\n",
    "print(resultado)"
   ],
   "metadata": {
    "collapsed": false,
    "ExecuteTime": {
     "end_time": "2023-05-04T19:30:52.768713652Z",
     "start_time": "2023-05-04T19:30:52.595123404Z"
    }
   }
  },
  {
   "cell_type": "markdown",
   "source": [
    "Question 2"
   ],
   "metadata": {
    "collapsed": false
   }
  },
  {
   "cell_type": "code",
   "execution_count": 3,
   "outputs": [
    {
     "name": "stdout",
     "output_type": "stream",
     "text": [
      "['chocolate']\n"
     ]
    }
   ],
   "source": [
    "texto = \"La vida es como una caja de chocolates\"\n",
    "patron = \"chocolate\"\n",
    "resultado = re.findall(patron, texto)\n",
    "print(resultado)"
   ],
   "metadata": {
    "collapsed": false,
    "ExecuteTime": {
     "end_time": "2023-05-04T19:30:52.781936656Z",
     "start_time": "2023-05-04T19:30:52.624656072Z"
    }
   }
  },
  {
   "cell_type": "markdown",
   "source": [
    "Question 3"
   ],
   "metadata": {
    "collapsed": false
   }
  },
  {
   "cell_type": "code",
   "execution_count": 4,
   "outputs": [
    {
     "name": "stdout",
     "output_type": "stream",
     "text": [
      "['aab']\n"
     ]
    }
   ],
   "source": [
    "texto = \"abccbaabccba\"\n",
    "patron = \"a.b\"\n",
    "resultado = re.findall(patron, texto)\n",
    "print(resultado)"
   ],
   "metadata": {
    "collapsed": false,
    "ExecuteTime": {
     "end_time": "2023-05-04T19:30:52.782806754Z",
     "start_time": "2023-05-04T19:30:52.625277676Z"
    }
   }
  },
  {
   "cell_type": "markdown",
   "source": [
    "Question 4"
   ],
   "metadata": {
    "collapsed": false
   }
  },
  {
   "cell_type": "code",
   "execution_count": 5,
   "outputs": [
    {
     "name": "stdout",
     "output_type": "stream",
     "text": [
      "['a', 'i', 'a', 'e', 'o', 'o', 'u', 'a', 'a', 'a', 'e', 'o', 'o', 'a', 'e']\n"
     ]
    }
   ],
   "source": [
    "texto = \"La vida es como una caja de chocolates\"\n",
    "patron = \"a|e|i|o|u\"\n",
    "resultado = re.findall(patron, texto)\n",
    "print(resultado)"
   ],
   "metadata": {
    "collapsed": false,
    "ExecuteTime": {
     "end_time": "2023-05-04T19:30:52.783787623Z",
     "start_time": "2023-05-04T19:30:52.625791816Z"
    }
   }
  },
  {
   "cell_type": "markdown",
   "source": [
    "Question 5"
   ],
   "metadata": {
    "collapsed": false
   }
  },
  {
   "cell_type": "code",
   "execution_count": 6,
   "outputs": [
    {
     "name": "stdout",
     "output_type": "stream",
     "text": [
      "['1234']\n"
     ]
    }
   ],
   "source": [
    "texto = \"Este es un ejemplo de 1234 números\"\n",
    "patron = \"\\d+\"\n",
    "resultado = re.findall(patron, texto)\n",
    "print(resultado)"
   ],
   "metadata": {
    "collapsed": false,
    "ExecuteTime": {
     "end_time": "2023-05-04T19:30:52.784607525Z",
     "start_time": "2023-05-04T19:30:52.626363956Z"
    }
   }
  },
  {
   "cell_type": "markdown",
   "source": [
    "Question 6"
   ],
   "metadata": {
    "collapsed": false
   }
  },
  {
   "cell_type": "code",
   "execution_count": 7,
   "outputs": [
    {
     "name": "stdout",
     "output_type": "stream",
     "text": [
      "[' ', ' ', ' ', ' ', ' ', ' ', ' ']\n"
     ]
    }
   ],
   "source": [
    "texto = \"La vida es como una caja de chocolates\"\n",
    "patron = \"\\s\"\n",
    "resultado = re.findall(patron, texto)\n",
    "print(resultado)"
   ],
   "metadata": {
    "collapsed": false,
    "ExecuteTime": {
     "end_time": "2023-05-04T19:30:52.785451332Z",
     "start_time": "2023-05-04T19:30:52.630838501Z"
    }
   }
  },
  {
   "cell_type": "markdown",
   "source": [
    "Question 7"
   ],
   "metadata": {
    "collapsed": false
   }
  },
  {
   "cell_type": "code",
   "execution_count": 8,
   "outputs": [
    {
     "name": "stdout",
     "output_type": "stream",
     "text": [
      "['192.168.0.1']\n"
     ]
    }
   ],
   "source": [
    "texto = \"Este es un ejemplo de una dirección IP: 192.168.0.1\"\n",
    "patron = \"\\d{1,3}\\.\\d{1,3}\\.\\d{1,3}\\.\\d{1,3}\"\n",
    "resultado = re.findall(patron, texto)\n",
    "print(resultado)"
   ],
   "metadata": {
    "collapsed": false,
    "ExecuteTime": {
     "end_time": "2023-05-04T19:30:52.813305312Z",
     "start_time": "2023-05-04T19:30:52.645093250Z"
    }
   }
  },
  {
   "cell_type": "markdown",
   "source": [
    "Question 8"
   ],
   "metadata": {
    "collapsed": false
   }
  },
  {
   "cell_type": "code",
   "execution_count": 9,
   "outputs": [
    {
     "name": "stdout",
     "output_type": "stream",
     "text": [
      "['casa', 'casa']\n"
     ]
    }
   ],
   "source": [
    "cadena = \"La casa de Juan es azul y la casa de María es roja\"\n",
    "patron = \"casa\"\n",
    "resultado = re.findall(patron, cadena)\n",
    "print(resultado)"
   ],
   "metadata": {
    "collapsed": false,
    "ExecuteTime": {
     "end_time": "2023-05-04T19:30:52.814210817Z",
     "start_time": "2023-05-04T19:30:52.688712167Z"
    }
   }
  },
  {
   "cell_type": "markdown",
   "source": [
    "Question 9"
   ],
   "metadata": {
    "collapsed": false
   }
  },
  {
   "cell_type": "code",
   "execution_count": 10,
   "outputs": [
    {
     "name": "stdout",
     "output_type": "stream",
     "text": [
      "['123456789', '987654321']\n"
     ]
    }
   ],
   "source": [
    "cadena = \"El teléfono de Juan es 123456789 y el teléfono de María es 987654321\"\n",
    "patron = \"\\d+\"\n",
    "resultado = re.findall(patron, cadena)\n",
    "print(resultado)"
   ],
   "metadata": {
    "collapsed": false,
    "ExecuteTime": {
     "end_time": "2023-05-04T19:30:52.814974602Z",
     "start_time": "2023-05-04T19:30:52.689094064Z"
    }
   }
  },
  {
   "cell_type": "markdown",
   "source": [
    "Question 10"
   ],
   "metadata": {
    "collapsed": false
   }
  },
  {
   "cell_type": "code",
   "execution_count": 11,
   "outputs": [
    {
     "name": "stdout",
     "output_type": "stream",
     "text": [
      "['usuario@gmail.com']\n"
     ]
    }
   ],
   "source": [
    "cadena = \"Mi correo electrónico es usuario@gmail.com\"\n",
    "patron = \"\\w+@\\w+\\.\\w+\"\n",
    "resultado = re.findall(patron, cadena)\n",
    "print(resultado)"
   ],
   "metadata": {
    "collapsed": false,
    "ExecuteTime": {
     "end_time": "2023-05-04T19:30:52.815975349Z",
     "start_time": "2023-05-04T19:30:52.689409716Z"
    }
   }
  },
  {
   "cell_type": "markdown",
   "source": [
    "Question 11"
   ],
   "metadata": {
    "collapsed": false
   }
  },
  {
   "cell_type": "code",
   "execution_count": 12,
   "outputs": [
    {
     "name": "stdout",
     "output_type": "stream",
     "text": [
      "['01/01/2000']\n"
     ]
    }
   ],
   "source": [
    "cadena = \"La fecha de nacimiento de Juan es 01/01/2000\"\n",
    "patron = \"\\d{2}/\\d{2}/\\d{4}\"\n",
    "resultado = re.findall(patron, cadena)\n",
    "print(resultado)"
   ],
   "metadata": {
    "collapsed": false,
    "ExecuteTime": {
     "end_time": "2023-05-04T19:30:52.816881255Z",
     "start_time": "2023-05-04T19:30:52.733331279Z"
    }
   }
  },
  {
   "cell_type": "markdown",
   "source": [
    "Question 12"
   ],
   "metadata": {
    "collapsed": false
   }
  },
  {
   "cell_type": "code",
   "execution_count": 13,
   "outputs": [
    {
     "name": "stdout",
     "output_type": "stream",
     "text": [
      "['12345', '54321']\n"
     ]
    }
   ],
   "source": [
    "cadena = \"El código postal de Juan es 12345 y el de María es 54321\"\n",
    "patron = \"\\d{5}\"\n",
    "resultado = re.findall(patron, cadena)\n",
    "print(resultado)"
   ],
   "metadata": {
    "collapsed": false,
    "ExecuteTime": {
     "end_time": "2023-05-04T19:30:52.817687661Z",
     "start_time": "2023-05-04T19:30:52.733768943Z"
    }
   }
  },
  {
   "cell_type": "markdown",
   "source": [
    "Question 13"
   ],
   "metadata": {
    "collapsed": false
   }
  },
  {
   "cell_type": "code",
   "execution_count": 14,
   "outputs": [
    {
     "name": "stdout",
     "output_type": "stream",
     "text": [
      "['https://www.google']\n"
     ]
    }
   ],
   "source": [
    "cadena = \"La URL de Google es https://www.google.com\"\n",
    "patron = \"https?://\\w+\\.\\w+\"\n",
    "resultado = re.findall(patron, cadena)\n",
    "print(resultado)"
   ],
   "metadata": {
    "collapsed": false,
    "ExecuteTime": {
     "end_time": "2023-05-04T19:30:52.818585542Z",
     "start_time": "2023-05-04T19:30:52.734218860Z"
    }
   }
  },
  {
   "cell_type": "markdown",
   "source": [
    "Question 14"
   ],
   "metadata": {
    "collapsed": false
   }
  },
  {
   "cell_type": "code",
   "execution_count": 15,
   "outputs": [
    {
     "name": "stdout",
     "output_type": "stream",
     "text": [
      "['a ', 'as', 'a ', 'a ', 'ar']\n"
     ]
    }
   ],
   "source": [
    "cadena = \"La casa es roja y tiene un jardín\"\n",
    "patron = \"a.\"\n",
    "resultado = re.findall(patron, cadena)\n",
    "print(resultado)"
   ],
   "metadata": {
    "collapsed": false,
    "ExecuteTime": {
     "end_time": "2023-05-04T19:30:53.058632399Z",
     "start_time": "2023-05-04T19:30:52.734552095Z"
    }
   }
  },
  {
   "cell_type": "markdown",
   "source": [
    "Question 15"
   ],
   "metadata": {
    "collapsed": false
   }
  },
  {
   "cell_type": "code",
   "execution_count": 23,
   "outputs": [
    {
     "name": "stdout",
     "output_type": "stream",
     "text": [
      "['azul', 'azul']\n"
     ]
    }
   ],
   "source": [
    "cadena = \"El coche es azul, el cielo también es azul\"\n",
    "patron = \"azul\"\n",
    "resultado = re.findall(patron, cadena, re.IGNORECASE)\n",
    "print(resultado)"
   ],
   "metadata": {
    "collapsed": false,
    "ExecuteTime": {
     "end_time": "2023-05-04T21:02:31.079790076Z",
     "start_time": "2023-05-04T21:02:31.036034314Z"
    }
   }
  },
  {
   "cell_type": "markdown",
   "source": [
    "Question 16"
   ],
   "metadata": {
    "collapsed": false
   }
  },
  {
   "cell_type": "code",
   "execution_count": 17,
   "outputs": [
    {
     "name": "stdout",
     "output_type": "stream",
     "text": [
      "['25', '30']\n"
     ]
    }
   ],
   "source": [
    "cadena = \"La temperatura es 25 grados y la presión es 30 bares\"\n",
    "patron = \"\\d+\"\n",
    "resultado = re.findall(patron, cadena)\n",
    "print(resultado)"
   ],
   "metadata": {
    "collapsed": false,
    "ExecuteTime": {
     "end_time": "2023-05-04T19:30:53.061960520Z",
     "start_time": "2023-05-04T19:30:52.777836624Z"
    }
   }
  },
  {
   "cell_type": "markdown",
   "source": [
    "Question 17"
   ],
   "metadata": {
    "collapsed": false
   }
  },
  {
   "cell_type": "code",
   "execution_count": 26,
   "outputs": [
    {
     "name": "stdout",
     "output_type": "stream",
     "text": [
      "['10,', '20,']\n"
     ]
    }
   ],
   "source": [
    "cadena = \"Los precios son: 10, 20, 30 y 40\"\n",
    "patron = \"\\d*,\"\n",
    "resultado = re.findall(patron, cadena)\n",
    "print(resultado)"
   ],
   "metadata": {
    "collapsed": false,
    "ExecuteTime": {
     "end_time": "2023-05-04T21:07:09.705323132Z",
     "start_time": "2023-05-04T21:07:09.678772015Z"
    }
   }
  },
  {
   "cell_type": "markdown",
   "source": [
    "Question 18"
   ],
   "metadata": {
    "collapsed": false
   }
  },
  {
   "cell_type": "code",
   "execution_count": 19,
   "outputs": [
    {
     "name": "stdout",
     "output_type": "stream",
     "text": [
      "['03-05-2023']\n"
     ]
    }
   ],
   "source": [
    "cadena = \"La fecha de hoy es 03-05-2023\"\n",
    "patron = \"\\d\\d-\\d\\d-\\d\\d\\d\\d\"\n",
    "resultado = re.findall(patron, cadena)\n",
    "print(resultado)"
   ],
   "metadata": {
    "collapsed": false,
    "ExecuteTime": {
     "end_time": "2023-05-04T19:30:53.080279813Z",
     "start_time": "2023-05-04T19:30:52.788520440Z"
    }
   }
  },
  {
   "cell_type": "markdown",
   "source": [
    "Question 19"
   ],
   "metadata": {
    "collapsed": false
   }
  },
  {
   "cell_type": "code",
   "execution_count": 20,
   "outputs": [
    {
     "name": "stdout",
     "output_type": "stream",
     "text": [
      "['a', 'a', 'e', 'e', 'o', 'a', 'u', 'o']\n"
     ]
    }
   ],
   "source": [
    "cadena = \"La frase es: hola mundo\"\n",
    "patron = \"[aeiou]\"\n",
    "resultado = re.findall(patron, cadena)\n",
    "print(resultado)"
   ],
   "metadata": {
    "collapsed": false,
    "ExecuteTime": {
     "end_time": "2023-05-04T19:30:53.081670353Z",
     "start_time": "2023-05-04T19:30:52.806207108Z"
    }
   }
  },
  {
   "cell_type": "markdown",
   "source": [
    "Question 20"
   ],
   "metadata": {
    "collapsed": false
   }
  },
  {
   "cell_type": "code",
   "execution_count": 27,
   "outputs": [
    {
     "name": "stdout",
     "output_type": "stream",
     "text": [
      "['La dirección es calle Sarandí ']\n"
     ]
    }
   ],
   "source": [
    "cadena = \"La dirección es calle Sarandí 123\"\n",
    "patron = \"\\D+\"\n",
    "resultado = re.findall(patron, cadena)\n",
    "print(resultado)"
   ],
   "metadata": {
    "collapsed": false,
    "ExecuteTime": {
     "end_time": "2023-05-04T21:36:10.644134054Z",
     "start_time": "2023-05-04T21:36:10.602734269Z"
    }
   }
  },
  {
   "cell_type": "code",
   "execution_count": null,
   "outputs": [],
   "source": [],
   "metadata": {
    "collapsed": false
   }
  }
 ],
 "metadata": {
  "kernelspec": {
   "display_name": "Python 3",
   "language": "python",
   "name": "python3"
  },
  "language_info": {
   "codemirror_mode": {
    "name": "ipython",
    "version": 2
   },
   "file_extension": ".py",
   "mimetype": "text/x-python",
   "name": "python",
   "nbconvert_exporter": "python",
   "pygments_lexer": "ipython2",
   "version": "2.7.6"
  }
 },
 "nbformat": 4,
 "nbformat_minor": 0
}
