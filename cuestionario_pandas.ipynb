{
 "cells": [
  {
   "cell_type": "markdown",
   "source": [
    "Preguntas con respuestas de múltiples opciones sobre Pandas del tipo \"¿Cuál es la salida del siguiente código?\"."
   ],
   "metadata": {
    "collapsed": false
   }
  },
  {
   "cell_type": "markdown",
   "source": [
    "***¿Cuál es la salida del siguiente código?***"
   ],
   "metadata": {
    "collapsed": false
   }
  },
  {
   "cell_type": "code",
   "execution_count": 1,
   "outputs": [
    {
     "name": "stdout",
     "output_type": "stream",
     "text": [
      "   A  B\n",
      "0  1  4\n",
      "1  2  5\n",
      "2  3  6\n"
     ]
    }
   ],
   "source": [
    "import pandas as pd\n",
    "df = pd.DataFrame({'A': [1, 2, 3], 'B': [4, 5, 6]})\n",
    "print(df.head())\n"
   ],
   "metadata": {
    "collapsed": false,
    "ExecuteTime": {
     "end_time": "2023-05-05T21:24:48.577221541Z",
     "start_time": "2023-05-05T21:24:47.799234622Z"
    }
   }
  },
  {
   "cell_type": "markdown",
   "source": [
    "a)\n",
    "A B\n",
    "1 4\n",
    "2 5\n",
    "3 6\n",
    "\n",
    "b)\n",
    "  A B\n",
    "0 1 4\n",
    "1 2 5\n",
    "2 3 6\n",
    "\n",
    "c)\n",
    "  A B\n",
    "1 2 5\n",
    "2 3 6\n",
    "\n",
    "Respuesta: b)\n",
    "  A B\n",
    "0 1 4\n",
    "1 2 5\n",
    "2 3 6"
   ],
   "metadata": {
    "collapsed": false
   }
  },
  {
   "cell_type": "markdown",
   "source": [
    "***¿Cuál es la salida del siguiente código?***"
   ],
   "metadata": {
    "collapsed": false
   }
  },
  {
   "cell_type": "code",
   "execution_count": 2,
   "outputs": [
    {
     "name": "stdout",
     "output_type": "stream",
     "text": [
      "   A  B  C\n",
      "0  1  4  5\n",
      "1  2  5  7\n",
      "2  3  6  9\n"
     ]
    }
   ],
   "source": [
    "import pandas as pd\n",
    "df = pd.DataFrame({'A': [1, 2, 3], 'B': [4, 5, 6]})\n",
    "df['C'] = df['A'] + df['B']\n",
    "print(df)\n"
   ],
   "metadata": {
    "collapsed": false,
    "ExecuteTime": {
     "end_time": "2023-05-05T21:24:48.589957409Z",
     "start_time": "2023-05-05T21:24:48.579745488Z"
    }
   }
  },
  {
   "cell_type": "markdown",
   "source": [
    "a)\n",
    "  A B C\n",
    "1 4 5 9\n",
    "2 5 6 11\n",
    "3 6 7 13\n",
    "\n",
    "b)\n",
    "  A B C\n",
    "1 2 5 7\n",
    "2 3 6 9\n",
    "3 4 7 11\n",
    "\n",
    "c)\n",
    "  A B C\n",
    "0 1 4 5\n",
    "1 2 5 7\n",
    "2 3 6 9\n",
    "\n",
    "Respuesta: c)\n",
    "  A B C\n",
    "0 1 4 5\n",
    "1 2 5 7\n",
    "2 3 6 9"
   ],
   "metadata": {
    "collapsed": false
   }
  },
  {
   "cell_type": "markdown",
   "source": [
    "***¿Cuál es la salida del siguiente código?***"
   ],
   "metadata": {
    "collapsed": false
   }
  },
  {
   "cell_type": "code",
   "execution_count": 3,
   "outputs": [
    {
     "name": "stdout",
     "output_type": "stream",
     "text": [
      "   A\n",
      "0  1\n",
      "1  2\n",
      "2  3\n"
     ]
    }
   ],
   "source": [
    "import pandas as pd\n",
    "df = pd.DataFrame({'A': [1, 2, 3], 'B': [4, 5, 6]})\n",
    "df.drop(columns='B', inplace=True)\n",
    "print(df)\n"
   ],
   "metadata": {
    "collapsed": false,
    "ExecuteTime": {
     "end_time": "2023-05-05T21:24:48.665890323Z",
     "start_time": "2023-05-05T21:24:48.592596698Z"
    }
   }
  },
  {
   "cell_type": "markdown",
   "source": [
    "a)\n",
    "  A\n",
    "1 4\n",
    "2 5\n",
    "3 6\n",
    "\n",
    "b)\n",
    "  B\n",
    "0 4\n",
    "1 5\n",
    "2 6\n",
    "\n",
    "c)\n",
    "  A\n",
    "0 1\n",
    "1 2\n",
    "2 3\n",
    "\n",
    "Respuesta: c)\n",
    "  A\n",
    "0 1\n",
    "1 2\n",
    "2 3"
   ],
   "metadata": {
    "collapsed": false
   }
  },
  {
   "cell_type": "markdown",
   "source": [
    "***¿Cuál es la salida del siguiente código?***"
   ],
   "metadata": {
    "collapsed": false
   }
  },
  {
   "cell_type": "code",
   "execution_count": 4,
   "outputs": [
    {
     "name": "stdout",
     "output_type": "stream",
     "text": [
      "   A  B\n",
      "1  2  5\n",
      "2  3  6\n"
     ]
    }
   ],
   "source": [
    "import pandas as pd\n",
    "df = pd.DataFrame({'A': [1, 2, 3], 'B': [4, 5, 6]})\n",
    "df = df[df['B'] > 4]\n",
    "print(df)\n"
   ],
   "metadata": {
    "collapsed": false,
    "ExecuteTime": {
     "end_time": "2023-05-05T21:24:48.679975262Z",
     "start_time": "2023-05-05T21:24:48.637000773Z"
    }
   }
  },
  {
   "cell_type": "markdown",
   "source": [
    "a)\n",
    "  A B\n",
    "2 5 6\n",
    "3 6 7\n",
    "\n",
    "b)\n",
    "  A B\n",
    "1 2 5\n",
    "2 3 6\n",
    "\n",
    "c)\n",
    "  B\n",
    "1 5\n",
    "2 6\n",
    "\n",
    "Respuesta: b)\n",
    "  A B\n",
    "1 2 5\n",
    "2 3 6"
   ],
   "metadata": {
    "collapsed": false
   }
  }
 ],
 "metadata": {
  "kernelspec": {
   "display_name": "Python 3",
   "language": "python",
   "name": "python3"
  },
  "language_info": {
   "codemirror_mode": {
    "name": "ipython",
    "version": 2
   },
   "file_extension": ".py",
   "mimetype": "text/x-python",
   "name": "python",
   "nbconvert_exporter": "python",
   "pygments_lexer": "ipython2",
   "version": "2.7.6"
  }
 },
 "nbformat": 4,
 "nbformat_minor": 0
}
