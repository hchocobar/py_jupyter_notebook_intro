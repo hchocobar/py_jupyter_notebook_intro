{
 "cells": [
  {
   "cell_type": "markdown",
   "source": [
    "# Numpy\n",
    "\n",
    "## Cuestionario\n",
    "\n",
    "Preguntas con respuestas de opciones múltiples sobre NumPy ¿Cuál es la salida del siguiente código?"
   ],
   "metadata": {
    "collapsed": false
   }
  },
  {
   "cell_type": "markdown",
   "source": [
    "¿Cuál es la salida del siguiente código?"
   ],
   "metadata": {
    "collapsed": false
   }
  },
  {
   "cell_type": "code",
   "execution_count": null,
   "outputs": [],
   "source": [
    "import numpy as np\n",
    "a = np.array([1, 2, 3])\n",
    "b = np.array([4, 5, 6])\n",
    "c = a + b\n",
    "print(c)\n",
    "type(c)"
   ],
   "metadata": {
    "collapsed": false
   }
  },
  {
   "cell_type": "markdown",
   "source": [
    "a) [1, 2, 3, 4, 5, 6]\n",
    "b) [5, 7, 9]\n",
    "c) [2, 4, 6]\n",
    "\n",
    "Respuesta: b) [5, 7, 9]"
   ],
   "metadata": {
    "collapsed": false
   }
  },
  {
   "cell_type": "markdown",
   "source": [
    "¿Cuál es la salida del siguiente código?"
   ],
   "metadata": {
    "collapsed": false
   }
  },
  {
   "cell_type": "code",
   "execution_count": null,
   "outputs": [],
   "source": [
    "import numpy as np\n",
    "a = np.array([1, 2, 3])\n",
    "b = np.array([4, 5, 6])\n",
    "c = np.multiply(a, b)\n",
    "print(c)"
   ],
   "metadata": {
    "collapsed": false
   }
  },
  {
   "cell_type": "markdown",
   "source": [
    "a) [1, 2, 3, 4, 5, 6]\n",
    "b) [4, 10, 18]\n",
    "c) [14, 32, 56]\n",
    "\n",
    "Respuesta: b) [4, 10, 18]"
   ],
   "metadata": {
    "collapsed": false
   }
  },
  {
   "cell_type": "markdown",
   "source": [
    "¿Cuál es la salida del siguiente código?"
   ],
   "metadata": {
    "collapsed": false
   }
  },
  {
   "cell_type": "code",
   "execution_count": null,
   "outputs": [],
   "source": [
    "import numpy as np\n",
    "a = np.array([1, 2, 3])\n",
    "b = np.array([4, 5, 6])\n",
    "c = np.subtract(a, b)\n",
    "print(c)"
   ],
   "metadata": {
    "collapsed": false
   }
  },
  {
   "cell_type": "markdown",
   "source": [
    "a) [1, 2, 3, 4, 5, 6]\n",
    "b) [3, 3, 3]\n",
    "c) [-3, -3, -3]\n",
    "\n",
    "Respuesta: c) [-3, -3, -3]"
   ],
   "metadata": {
    "collapsed": false
   }
  },
  {
   "cell_type": "markdown",
   "source": [
    "¿Cuál es la salida del siguiente código?"
   ],
   "metadata": {
    "collapsed": false
   }
  },
  {
   "cell_type": "code",
   "execution_count": null,
   "outputs": [],
   "source": [
    "import numpy as np\n",
    "a = np.array([[1, 2], [3, 4]])\n",
    "b = np.array([[5, 6], [7, 8]])\n",
    "c = np.multiply(a, b)\n",
    "print(c)"
   ],
   "metadata": {
    "collapsed": false
   }
  },
  {
   "cell_type": "markdown",
   "source": [
    "a) [[5, 6], [7, 8], [10, 12], [14, 16], [15, 18], [21, 24], [8, 16], [24, 32]]\n",
    "b) [[5, 12], [21, 32]]\n",
    "c) [[5, 6, 7, 8], [21, 32, 39, 46]]\n",
    "\n",
    "Respuesta: b) [[5, 12], [21, 32]]"
   ],
   "metadata": {
    "collapsed": false
   }
  },
  {
   "cell_type": "markdown",
   "source": [],
   "metadata": {
    "collapsed": false
   }
  }
 ],
 "metadata": {
  "kernelspec": {
   "display_name": "Python 3",
   "language": "python",
   "name": "python3"
  },
  "language_info": {
   "codemirror_mode": {
    "name": "ipython",
    "version": 2
   },
   "file_extension": ".py",
   "mimetype": "text/x-python",
   "name": "python",
   "nbconvert_exporter": "python",
   "pygments_lexer": "ipython2",
   "version": "2.7.6"
  }
 },
 "nbformat": 4,
 "nbformat_minor": 0
}
