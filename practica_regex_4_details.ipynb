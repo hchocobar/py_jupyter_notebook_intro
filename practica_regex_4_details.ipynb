{
 "cells": [
  {
   "cell_type": "code",
   "execution_count": null,
   "metadata": {
    "collapsed": true
   },
   "outputs": [],
   "source": [
    "# Search for lines that start with 'Details: rev='\n",
    "# followed by numbers\n",
    "# Then print the number if one is found\n",
    "import re"
   ]
  },
  {
   "cell_type": "code",
   "execution_count": null,
   "outputs": [],
   "source": [
    "hand = open('mbox-short.txt')\n",
    "for line in hand:\n",
    "    line = line.rstrip()\n",
    "    x = re.findall('^Details:.*rev=([0-9]+)', line)\n",
    "    if len(x) > 0:\n",
    "        print(x)"
   ],
   "metadata": {
    "collapsed": false
   }
  },
  {
   "cell_type": "code",
   "execution_count": null,
   "outputs": [],
   "source": [
    "# Search for lines that start with From and a character\n",
    "# followed by a two digit number between 00 and 99 followed by ':'\n",
    "# Then print the number if it is greater than zero\n",
    "hand = open('mbox-short.txt')\n",
    "for line in hand:\n",
    "    line = line.rstrip()\n",
    "    x = re.findall('^From .* ([0-9][0-9]):', line)\n",
    "    if len(x) > 0: print(x)"
   ],
   "metadata": {
    "collapsed": false
   }
  },
  {
   "cell_type": "code",
   "execution_count": null,
   "outputs": [],
   "source": [
    "# Search for lines that contain 'Author:' followed by any characters,\n",
    "# an at sign, and any non whitespace character\n",
    "# Then print the character group that follows the at sign\n",
    "import re\n",
    "hand = open('mbox-short.txt')\n",
    "for line in hand:\n",
    "    line = line.rstrip()\n",
    "    x = re.findall('Author:.*@(\\S+)', line)\n",
    "    if not x: continue\n",
    "    print(x)\n"
   ],
   "metadata": {
    "collapsed": false
   }
  }
 ],
 "metadata": {
  "kernelspec": {
   "display_name": "Python 3",
   "language": "python",
   "name": "python3"
  },
  "language_info": {
   "codemirror_mode": {
    "name": "ipython",
    "version": 2
   },
   "file_extension": ".py",
   "mimetype": "text/x-python",
   "name": "python",
   "nbconvert_exporter": "python",
   "pygments_lexer": "ipython2",
   "version": "2.7.6"
  }
 },
 "nbformat": 4,
 "nbformat_minor": 0
}
