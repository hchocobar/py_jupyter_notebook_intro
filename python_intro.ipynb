{
  "nbformat": 4,
  "nbformat_minor": 0,
  "metadata": {
    "colab": {
      "provenance": [],
      "toc_visible": true,
      "authorship_tag": "ABX9TyPr4SJ0zXYdRcZLLFTQdxzW"
    },
    "kernelspec": {
      "name": "python3",
      "display_name": "Python 3"
    },
    "language_info": {
      "name": "python"
    }
  },
  "cells": [
    {
      "cell_type": "markdown",
      "source": [
        "# Hola Mundo\n",
        "\n",
        "En el mundo de Data Science y Machine Learning debemos desarrollar al menos tres habilidades técnicas:\n",
        "\n",
        "* Programación, \n",
        "* Estadísticas, y\n",
        "* Conocimiento del Negocio."
      ],
      "metadata": {
        "id": "hZIANoMYrs8m"
      }
    },
    {
      "cell_type": "markdown",
      "source": [],
      "metadata": {
        "id": "R8v7PyQy1NJ8"
      }
    },
    {
      "cell_type": "markdown",
      "source": [
        "# Python"
      ],
      "metadata": {
        "id": "c1UQvU1w3g0C"
      }
    },
    {
      "cell_type": "markdown",
      "source": [
        "## PEP8 - Style Guide for Python Code\n",
        "\n",
        "En Python la legibilidad del código es muy importante. Tan importante que existe una PEP (Python Enhancement Proposals) que detalla la Guía para el  Estilo de Codigificación que debemos utilizar los desarrolladores.\n",
        "\n",
        "[Aquí encontrarás un resumen](https://gist.github.com/hchocobar/91f9e33a0201f3f8d0eb468a00612cc2)\n"
      ],
      "metadata": {
        "id": "hry6HOMl1NhL"
      }
    },
    {
      "cell_type": "markdown",
      "source": [
        "## Operadores Matemáticos"
      ],
      "metadata": {
        "id": "iYlGrvVQ1NIN"
      }
    },
    {
      "cell_type": "code",
      "execution_count": 2,
      "metadata": {
        "colab": {
          "base_uri": "https://localhost:8080/"
        },
        "id": "lYigK0XgqTER",
        "outputId": "e48190a0-597e-4663-9e7b-b1b702da0338"
      },
      "outputs": [
        {
          "output_type": "stream",
          "name": "stdout",
          "text": [
            "{'suma': 7, 'resta': 3, 'producto': 10, 'division': 2.5, 'modulo': 1, 'division entera': 2}\n"
          ]
        }
      ],
      "source": [
        "# Operadores matemáticos básicos\n",
        "num_a = 5\n",
        "num_b = 2\n",
        "results = {}\n",
        "\n",
        "results[\"suma\"] = num_a + num_b\n",
        "results[\"resta\"] = num_a - num_b\n",
        "results[\"producto\"] = num_a * num_b\n",
        "results[\"division\"] = num_a / num_b\n",
        "results[\"modulo\"] = num_a % num_b\n",
        "results[\"division entera\"] = num_a // num_b\n",
        "\n",
        "# Mostramos los resultados\n",
        "print(results)"
      ]
    },
    {
      "cell_type": "markdown",
      "source": [
        "## Tipos de datos básicos"
      ],
      "metadata": {
        "id": "o_jAec2f4UWl"
      }
    },
    {
      "cell_type": "code",
      "source": [
        "# Cadena de texto (string)\n",
        "mi_cadena = \"Hola Mundo!\"\n",
        "mi_cadena_larga = \"\"\"\n",
        "Esta es una cadena\n",
        "de varias lineas \"\"\"\n",
        "\n",
        "# Número entero\n",
        "edad = 35\n",
        "\n",
        "# Número entero octal\n",
        "numero_octal1 = 0o35\n",
        "numero_octal2 = 0O20\n",
        "\n",
        "# Número entero hexadecimal\n",
        "numero_hexadecimal1 = 0x15\n",
        "numero_hexadecimal2 = 0X2F\n",
        "\n",
        "# Número real o de punto flotante\n",
        "precio1 = 7435.28\n",
        "precio2 = 74.\n",
        "porcentaje = .4\n",
        "\n",
        "# Número real en notación científica\n",
        "numero_grande1 = 35E4\n",
        "numero_grande2 = 35e8\n",
        "\n",
        "# Booleano (verdadero / Falso)\n",
        "verdadero = True\n",
        "falso = False\n",
        "\n",
        "# None – NonType – Ausencia de un valor\n",
        "variable_sin_nada = None\n",
        "\n",
        "# type() función integrada que nos devuelve el tipo de dato que contiene la variable\n",
        "print(type(mi_cadena))\n",
        "print(type(mi_cadena_larga))\n",
        "print(type(edad))\n",
        "print(type(numero_octal1))\n",
        "print(type(numero_hexadecimal1))\n",
        "print(type(precio1))\n",
        "print(numero_grande1)\n",
        "print(type(numero_grande1))\n",
        "print(type(verdadero))\n",
        "print(type(variable_sin_nada))\n"
      ],
      "metadata": {
        "colab": {
          "base_uri": "https://localhost:8080/"
        },
        "id": "6o0aRMLA0rUt",
        "outputId": "8b210389-8eb8-4d27-aa98-63e09a9d741a"
      },
      "execution_count": 6,
      "outputs": [
        {
          "output_type": "stream",
          "name": "stdout",
          "text": [
            "<class 'str'>\n",
            "<class 'str'>\n",
            "<class 'int'>\n",
            "<class 'int'>\n",
            "<class 'int'>\n",
            "<class 'float'>\n",
            "350000.0\n",
            "<class 'float'>\n",
            "<class 'bool'>\n",
            "<class 'NoneType'>\n"
          ]
        }
      ]
    },
    {
      "cell_type": "markdown",
      "source": [
        "## Colecciones"
      ],
      "metadata": {
        "id": "ryjQ8-sN4ZyF"
      }
    },
    {
      "cell_type": "code",
      "source": [
        "# Conjuntos - creación de conjunto mediante {}\n",
        "basket = {'apple', 'orange', 'apple', 'pear', 'orange', 'banana'}\n",
        "print(basket)  # Salida: {'orange', 'banana', 'pear', 'apple'}\n",
        "print('orange' in basket)  # Salida: True\n",
        "print('crabgrass' in basket)  # Salida: False\n",
        "\n",
        "# Conjuntos - creación mediante set()\n",
        "a = set()  # Crea un conjunto vacío\n",
        "print(a)\n",
        "print(type(a))\n",
        "\n",
        "\n",
        "# Diccionarios - colecciones indexadas de datos, mutables y desordenadas.\n",
        "# * En Python 3.6x los diccionarios están ordenados de manera predeterminada.\n",
        "# Cada diccionario es un par de \"clave : valor\". Se puede crear empleando la siguiente sintaxis:\n",
        "mi_diccionario = {\"fire\": \"fuego\", \"water\": \"agua\", \"earth\": \"tierra\", \"wind\": \"viento\",}\n",
        "print(mi_diccionario)\n",
        "print(type(mi_diccionario))\n",
        "\n",
        "\n",
        "# Listas\n",
        "mi_lista = [4, 5, 6, 22, \"h\"]\n",
        "print(mi_lista)\n",
        "print(type(mi_lista))\n",
        "print(mi_lista[0])\n",
        "\n",
        "\n",
        "\n",
        "# Tuplas - colecciones de datos ordenadas e inmutables.\n",
        "mi_tupla = (1, 2, True, \"una cadena\", (3, 4), [5, 6], None)\n",
        "print(mi_tupla)\n",
        "print(type(mi_tupla))\n",
        "print(mi_tupla[5])\n",
        "print(type(mi_tupla[5]))"
      ],
      "metadata": {
        "colab": {
          "base_uri": "https://localhost:8080/"
        },
        "id": "YiB_ynhm4eEF",
        "outputId": "c7e3afb7-0c43-4b60-9a7b-b2a760b60bd3"
      },
      "execution_count": 10,
      "outputs": [
        {
          "output_type": "stream",
          "name": "stdout",
          "text": [
            "{'orange', 'banana', 'pear', 'apple'}\n",
            "True\n",
            "False\n",
            "set()\n",
            "<class 'set'>\n",
            "{'fire': 'fuego', 'water': 'agua', 'earth': 'tierra', 'wind': 'viento'}\n",
            "<class 'dict'>\n",
            "[4, 5, 6, 22, 'h']\n",
            "<class 'list'>\n",
            "4\n",
            "(1, 2, True, 'una cadena', (3, 4), [5, 6], None)\n",
            "<class 'tuple'>\n",
            "[5, 6]\n",
            "<class 'list'>\n"
          ]
        }
      ]
    },
    {
      "cell_type": "markdown",
      "source": [
        "## Slicing - Rodajas"
      ],
      "metadata": {
        "id": "Dmij7sBr84xF"
      }
    },
    {
      "cell_type": "code",
      "source": [
        "# Slicing operator\n",
        "# Rodajas, rebanadas, slicing\n",
        "print('Sintaxis del slicing:', 'cadena[position_start : position_end_less_one : step]')\n",
        "cadena = \"01234567890\"\n",
        "#           987654321\n",
        "# cadena = \"012345678901234567890\"\n",
        "\n",
        "print('0:', cadena)\n",
        "print('1:', cadena[1:3])\n",
        "print('2:', cadena[1:3:1])\n",
        "print('3:', cadena[3:])\n",
        "print('4:', cadena[:3])\n",
        "print('5:', cadena[3:-2])  # Equivale a: cadena[3:9]\n",
        "print('6:', cadena[-3:4], 'algo')  # Equivale a: cadena[8:4]\n",
        "print('7:', cadena[-10:8], 'algo2')  # Equivale a: cadena[10:8]\n",
        "print('8:', cadena[::2])  # Saltando cada 2 elementos\n",
        "print('9:', cadena[1::2])\n",
        "print('10:', cadena[1:8:2])\n",
        "\n",
        "# indice negativo -> recorre la cadena desde el fin hacia el inicio\n",
        "print()\n",
        "print('11:', cadena[-1:-10:-2])\n",
        "print('12:', cadena[::-1])  # Invierte la cadena\n"
      ],
      "metadata": {
        "colab": {
          "base_uri": "https://localhost:8080/"
        },
        "id": "Vc5SzmBP88NP",
        "outputId": "283e0070-2ec2-4ffe-c1d0-844c5b8d8d1f"
      },
      "execution_count": 15,
      "outputs": [
        {
          "output_type": "stream",
          "name": "stdout",
          "text": [
            "Sintaxis del slicing: cadena[position_start : position_end_less_one : step]\n",
            "0: 01234567890\n",
            "1: 12\n",
            "2: 12\n",
            "3: 34567890\n",
            "4: 012\n",
            "5: 345678\n",
            "6:  algo\n",
            "7: 1234567 algo2\n",
            "8: 024680\n",
            "9: 13579\n",
            "10: 1357\n",
            "\n",
            "11: 08642\n",
            "12: 09876543210\n"
          ]
        }
      ]
    }
  ]
}