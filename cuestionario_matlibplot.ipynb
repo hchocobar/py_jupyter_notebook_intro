{
 "cells": [
  {
   "cell_type": "markdown",
   "source": [
    "# Matplotlib\n",
    "\n",
    "Preguntas con opciones múltiples sobre Matplotlib"
   ],
   "metadata": {
    "collapsed": false
   }
  },
  {
   "cell_type": "markdown",
   "source": [
    "¿Cuál es la salida de este código?"
   ],
   "metadata": {
    "collapsed": false
   }
  },
  {
   "cell_type": "code",
   "execution_count": null,
   "outputs": [],
   "source": [
    "import matplotlib.pyplot as plt\n",
    "\n",
    "x = [1, 2, 3, 4]\n",
    "y = [1, 4, 9, 16]\n",
    "\n",
    "plt.plot(x, y)\n",
    "plt.show()\n"
   ],
   "metadata": {
    "collapsed": false
   }
  },
  {
   "cell_type": "markdown",
   "source": [
    "a) Se muestra un gráfico de líneas con puntos conectados por segmentos rectos.\n",
    "b) Se muestra un gráfico de dispersión con puntos dispersos en el espacio.\n",
    "c) Se muestra un gráfico de barras con cuatro barras de diferentes alturas.\n",
    "d) No se muestra ninguna salida.\n",
    "\n",
    "Respuesta: a)"
   ],
   "metadata": {
    "collapsed": false
   }
  },
  {
   "cell_type": "markdown",
   "source": [
    "¿Cuál es la salida de este código?"
   ],
   "metadata": {
    "collapsed": false
   }
  },
  {
   "cell_type": "code",
   "execution_count": null,
   "outputs": [],
   "source": [
    "import matplotlib.pyplot as plt\n",
    "\n",
    "x = [1, 2, 3, 4]\n",
    "y = [1, 4, 9, 16]\n",
    "\n",
    "plt.scatter(x, y)\n",
    "plt.show()\n"
   ],
   "metadata": {
    "collapsed": false
   }
  },
  {
   "cell_type": "markdown",
   "source": [
    "a) Se muestra un gráfico de líneas con puntos conectados por segmentos rectos.\n",
    "b) Se muestra un gráfico de dispersión con puntos dispersos en el espacio.\n",
    "c) Se muestra un gráfico de barras con cuatro barras de diferentes alturas.\n",
    "d) No se muestra ninguna salida.\n",
    "\n",
    "Respuesta: b)"
   ],
   "metadata": {
    "collapsed": false
   }
  },
  {
   "cell_type": "markdown",
   "source": [
    "¿Cuál es la salida de este código?"
   ],
   "metadata": {
    "collapsed": false
   }
  },
  {
   "cell_type": "code",
   "execution_count": null,
   "outputs": [],
   "source": [
    "import matplotlib.pyplot as plt\n",
    "\n",
    "labels = ['Manzanas', 'Naranjas', 'Plátanos', 'Uvas']\n",
    "sizes = [30, 25, 15, 30]\n",
    "\n",
    "plt.pie(sizes, labels=labels)\n",
    "plt.show()\n"
   ],
   "metadata": {
    "collapsed": false
   }
  },
  {
   "cell_type": "markdown",
   "source": [
    "a) Se muestra un gráfico de líneas con puntos conectados por segmentos rectos.\n",
    "b) Se muestra un gráfico de dispersión con puntos dispersos en el espacio.\n",
    "c) Se muestra un gráfico de barras con cuatro barras de diferentes alturas.\n",
    "d) Se muestra un gráfico circular con porciones etiquetadas.\n",
    "\n",
    "Respuesta: d)"
   ],
   "metadata": {
    "collapsed": false
   }
  },
  {
   "cell_type": "markdown",
   "source": [
    "¿Cuál es la salida de este código?"
   ],
   "metadata": {
    "collapsed": false
   }
  },
  {
   "cell_type": "code",
   "execution_count": null,
   "outputs": [],
   "source": [
    "import matplotlib.pyplot as plt\n",
    "\n",
    "x = [1, 2, 3, 4]\n",
    "y1 = [1, 4, 9, 16]\n",
    "y2 = [2, 4, 6, 8]\n",
    "\n",
    "plt.plot(x, y1)\n",
    "plt.plot(x, y2)\n",
    "plt.legend(['Línea 1', 'Línea 2'])\n",
    "plt.show()\n"
   ],
   "metadata": {
    "collapsed": false
   }
  },
  {
   "cell_type": "markdown",
   "source": [
    "a) Se muestra un gráfico de líneas con dos líneas superpuestas y una leyenda.\n",
    "b) Se muestra un gráfico de dispersión con puntos dispersos en el espacio.\n",
    "c) Se muestra un gráfico de barras con cuatro barras de diferentes alturas.\n",
    "d) No se muestra ninguna salida.\n",
    "\n",
    "Respuesta: a)"
   ],
   "metadata": {
    "collapsed": false
   }
  },
  {
   "cell_type": "markdown",
   "source": [
    "¿Cuál es la salida de este código?"
   ],
   "metadata": {
    "collapsed": false
   }
  },
  {
   "cell_type": "code",
   "execution_count": null,
   "outputs": [],
   "source": [
    "import matplotlib.pyplot as plt\n",
    "\n",
    "labels = ['Manzanas', 'Naranjas', 'Plátanos', 'Uvas']\n",
    "sizes = [30, 25, 15, 30]\n",
    "explode = (0.1, 0, 0, 0)\n",
    "\n",
    "plt.pie(sizes, labels=labels, explode=explode)\n",
    "plt.show()\n"
   ],
   "metadata": {
    "collapsed": false
   }
  },
  {
   "cell_type": "markdown",
   "source": [
    "a) Se muestra un gráfico de líneas con puntos conectados por segmentos rectos.\n",
    "b) Se muestra un gráfico de dispersión con puntos dispersos en el espacio.\n",
    "c) Se muestra un gráfico de barras con cuatro barras de diferentes alturas.\n",
    "d) Se muestra un gráfico circular con porciones etiquetadas.\n",
    "\n",
    "Respuesta: d)"
   ],
   "metadata": {
    "collapsed": false
   }
  },
  {
   "cell_type": "markdown",
   "source": [
    "¿Cuál es la salida del siguiente código?"
   ],
   "metadata": {
    "collapsed": false
   }
  },
  {
   "cell_type": "code",
   "execution_count": null,
   "outputs": [],
   "source": [
    "import matplotlib.pyplot as plt\n",
    "\n",
    "plt.plot([1, 2, 3, 4])\n",
    "plt.ylabel('Eje Y')\n",
    "plt.show()\n"
   ],
   "metadata": {
    "collapsed": false
   }
  },
  {
   "cell_type": "markdown",
   "source": [
    "a) Un gráfico con una línea que conecta los puntos (1, 0), (2, 0), (3, 0) y (4, 0)\n",
    "b) Un gráfico con una línea que conecta los puntos (1, 1), (2, 2), (3, 3) y (4, 4)\n",
    "c) Un gráfico con una línea que conecta los puntos (0, 1), (0, 2), (0, 3) y (0, 4)\n",
    "d) Un gráfico con una línea que conecta los puntos (0, 1), (1, 2), (2, 3) y (3, 4)\n",
    "\n",
    "Respuesta: d)"
   ],
   "metadata": {
    "collapsed": false
   }
  },
  {
   "cell_type": "markdown",
   "source": [
    "¿Cuál es la salida del siguiente código?"
   ],
   "metadata": {
    "collapsed": false
   }
  },
  {
   "cell_type": "code",
   "execution_count": null,
   "outputs": [],
   "source": [
    "import matplotlib.pyplot as plt\n",
    "\n",
    "plt.plot([1, 2, 3, 4], [1, 4, 9, 16], 'ro')\n",
    "plt.axis([0, 6, 0, 20])\n",
    "plt.show()\n"
   ],
   "metadata": {
    "collapsed": false
   }
  },
  {
   "cell_type": "markdown",
   "source": [
    "a) Un gráfico con cuatro puntos rojos en las coordenadas (1,1), (2,4), (3,9) y (4,16).\n",
    "b) Un gráfico con una línea roja que conecta los puntos (1,1), (2,4), (3,9) y (4,16).\n",
    "c) Un gráfico con cuatro puntos rojos en las coordenadas (0,1), (0,4), (0,9) y (0,16).\n",
    "d) Un gráfico con una línea que conecta los puntos (0,0), (1,4), (3,9) y (5,16).\n",
    "\n",
    "Respuesta a)"
   ],
   "metadata": {
    "collapsed": false
   }
  },
  {
   "cell_type": "markdown",
   "source": [
    "¿Cuál es la salida del siguiente código?\n"
   ],
   "metadata": {
    "collapsed": false
   }
  },
  {
   "cell_type": "code",
   "execution_count": null,
   "outputs": [],
   "source": [
    "import matplotlib.pyplot as plt\n",
    "\n",
    "fig, axs = plt.subplots(2, 2)\n",
    "\n",
    "axs[0, 0].plot([1, 2, 3, 4], [1, 4, 9, 16])\n",
    "axs[0, 0].set_title('Gráfico 1')\n",
    "axs[0, 1].plot([1, 2, 3, 4], [1, 2, 3, 4])\n",
    "axs[0, 1].set_title('Gráfico 2')\n",
    "axs[1, 0].plot([1, 2, 3, 4], [1, 8, 27, 64])\n",
    "axs[1, 0].set_title('Gráfico 3')\n",
    "axs[1, 1].plot([1, 2, 3, 4], [0, 3, 6, 9])\n",
    "axs[1, 1].set_title('Gráfico 4')\n",
    "\n",
    "plt.show()\n"
   ],
   "metadata": {
    "collapsed": false
   }
  },
  {
   "cell_type": "markdown",
   "source": [
    "a) Cuatro gráficos, cada uno con una línea diferente.\n",
    "b) Un solo gráfico con cuatro líneas de diferentes colores.\n",
    "c) Una sola figura con cuatro sub-gráficos, cada uno con una línea diferente.\n",
    "d) Una sola figura con cuatro sub-gráficos, cada uno con una línea de diferente color.\n",
    "\n",
    "Respuesta: c)"
   ],
   "metadata": {
    "collapsed": false
   }
  }
 ],
 "metadata": {
  "kernelspec": {
   "display_name": "Python 3",
   "language": "python",
   "name": "python3"
  },
  "language_info": {
   "codemirror_mode": {
    "name": "ipython",
    "version": 2
   },
   "file_extension": ".py",
   "mimetype": "text/x-python",
   "name": "python",
   "nbconvert_exporter": "python",
   "pygments_lexer": "ipython2",
   "version": "2.7.6"
  }
 },
 "nbformat": 4,
 "nbformat_minor": 0
}
